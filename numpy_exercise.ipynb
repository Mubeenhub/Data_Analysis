{
 "cells": [
  {
   "cell_type": "code",
   "execution_count": 36,
   "metadata": {},
   "outputs": [],
   "source": [
    "import numpy as np"
   ]
  },
  {
   "cell_type": "code",
   "execution_count": 37,
   "metadata": {},
   "outputs": [],
   "source": [
    "# create a 1D array\n",
    "x = np.array([0, 1, 2, 3, 4, 5, 6])"
   ]
  },
  {
   "cell_type": "code",
   "execution_count": 38,
   "metadata": {},
   "outputs": [
    {
     "data": {
      "text/plain": [
       "array([1, 2, 3, 4, 5, 6])"
      ]
     },
     "execution_count": 38,
     "metadata": {},
     "output_type": "execute_result"
    }
   ],
   "source": [
    "# find all non-zero elements in x\n",
    "x[x > 0]"
   ]
  },
  {
   "cell_type": "code",
   "execution_count": 39,
   "metadata": {},
   "outputs": [],
   "source": [
    "# create a 5x5 matrix A with random numbers\n",
    "A = np.random.randn(5, 5)\n",
    "\n",
    "# create a 5x5 identity matrix B\n",
    "B = np.eye(5)"
   ]
  },
  {
   "cell_type": "code",
   "execution_count": 40,
   "metadata": {},
   "outputs": [
    {
     "data": {
      "text/plain": [
       "array([[ 1.24782534, -0.71037909, -0.15684211,  0.67684613,  0.10542257],\n",
       "       [ 1.8374016 , -0.35125581,  0.53393829, -0.27827547, -0.85432142],\n",
       "       [ 0.51759405,  1.00661768,  0.79699198,  0.3039806 , -0.168424  ],\n",
       "       [-0.94648647,  0.38841233, -1.48204809,  2.13600699, -0.02121692],\n",
       "       [-0.48650496, -1.93535458,  1.7126207 ,  0.29326286,  1.98241613]])"
      ]
     },
     "execution_count": 40,
     "metadata": {},
     "output_type": "execute_result"
    }
   ],
   "source": [
    "# calculate the following equations\n",
    "# A + B\n",
    "# A - B\n",
    "# A * B (matrix product)\n",
    "# A' (transpose of A)\n",
    "A + B"
   ]
  },
  {
   "cell_type": "code",
   "execution_count": 41,
   "metadata": {},
   "outputs": [
    {
     "data": {
      "text/plain": [
       "array([[-0.75217466, -0.71037909, -0.15684211,  0.67684613,  0.10542257],\n",
       "       [ 1.8374016 , -2.35125581,  0.53393829, -0.27827547, -0.85432142],\n",
       "       [ 0.51759405,  1.00661768, -1.20300802,  0.3039806 , -0.168424  ],\n",
       "       [-0.94648647,  0.38841233, -1.48204809,  0.13600699, -0.02121692],\n",
       "       [-0.48650496, -1.93535458,  1.7126207 ,  0.29326286, -0.01758387]])"
      ]
     },
     "execution_count": 41,
     "metadata": {},
     "output_type": "execute_result"
    }
   ],
   "source": [
    "# calculate the following equations\n",
    "# A + B\n",
    "# A - B\n",
    "# A * B (matrix product)\n",
    "# A' (transpose of A)\n",
    "A - B"
   ]
  },
  {
   "cell_type": "code",
   "execution_count": 42,
   "metadata": {},
   "outputs": [
    {
     "data": {
      "text/plain": [
       "array([[ 0.24782534, -0.71037909, -0.15684211,  0.67684613,  0.10542257],\n",
       "       [ 1.8374016 , -1.35125581,  0.53393829, -0.27827547, -0.85432142],\n",
       "       [ 0.51759405,  1.00661768, -0.20300802,  0.3039806 , -0.168424  ],\n",
       "       [-0.94648647,  0.38841233, -1.48204809,  1.13600699, -0.02121692],\n",
       "       [-0.48650496, -1.93535458,  1.7126207 ,  0.29326286,  0.98241613]])"
      ]
     },
     "execution_count": 42,
     "metadata": {},
     "output_type": "execute_result"
    }
   ],
   "source": [
    "# calculate the following equations\n",
    "# A + B\n",
    "# A - B\n",
    "# A * B (matrix product)\n",
    "# A' (transpose of A)\n",
    "np.dot(A,B)"
   ]
  },
  {
   "cell_type": "code",
   "execution_count": 43,
   "metadata": {},
   "outputs": [
    {
     "data": {
      "text/plain": [
       "array([[ 0.24782534, -0.71037909, -0.15684211,  0.67684613,  0.10542257],\n",
       "       [ 1.8374016 , -1.35125581,  0.53393829, -0.27827547, -0.85432142],\n",
       "       [ 0.51759405,  1.00661768, -0.20300802,  0.3039806 , -0.168424  ],\n",
       "       [-0.94648647,  0.38841233, -1.48204809,  1.13600699, -0.02121692],\n",
       "       [-0.48650496, -1.93535458,  1.7126207 ,  0.29326286,  0.98241613]])"
      ]
     },
     "execution_count": 43,
     "metadata": {},
     "output_type": "execute_result"
    }
   ],
   "source": [
    "# calculate the following equations\n",
    "# A + B\n",
    "# A - B\n",
    "# A * B (matrix product)\n",
    "# A' (transpose of A)\n",
    "np.dot(A,B)"
   ]
  },
  {
   "cell_type": "code",
   "execution_count": 44,
   "metadata": {},
   "outputs": [
    {
     "data": {
      "text/plain": [
       "array([[ 0.24782534,  1.8374016 ,  0.51759405, -0.94648647, -0.48650496],\n",
       "       [-0.71037909, -1.35125581,  1.00661768,  0.38841233, -1.93535458],\n",
       "       [-0.15684211,  0.53393829, -0.20300802, -1.48204809,  1.7126207 ],\n",
       "       [ 0.67684613, -0.27827547,  0.3039806 ,  1.13600699,  0.29326286],\n",
       "       [ 0.10542257, -0.85432142, -0.168424  , -0.02121692,  0.98241613]])"
      ]
     },
     "execution_count": 44,
     "metadata": {},
     "output_type": "execute_result"
    }
   ],
   "source": [
    "# calculate the following equations\n",
    "# A + B\n",
    "# A - B\n",
    "# A * B (matrix product)\n",
    "# A' (transpose of A)\n",
    "A.T"
   ]
  },
  {
   "cell_type": "code",
   "execution_count": 45,
   "metadata": {},
   "outputs": [
    {
     "data": {
      "text/plain": [
       "array([[ 0.24782534, -0.71037909, -0.15684211,  0.67684613,  0.10542257],\n",
       "       [ 1.8374016 , -1.35125581,  0.53393829, -0.27827547, -0.85432142],\n",
       "       [ 0.51759405,  1.00661768, -0.20300802,  0.3039806 , -0.168424  ],\n",
       "       [-0.94648647,  0.38841233, -1.48204809,  1.13600699, -0.02121692],\n",
       "       [-0.48650496, -1.93535458,  1.7126207 ,  0.29326286,  0.98241613]])"
      ]
     },
     "execution_count": 45,
     "metadata": {},
     "output_type": "execute_result"
    }
   ],
   "source": [
    "A"
   ]
  },
  {
   "cell_type": "code",
   "execution_count": 46,
   "metadata": {
    "scrolled": true
   },
   "outputs": [
    {
     "name": "stdout",
     "output_type": "stream",
     "text": [
      "1st: 5 2ND: 5\n"
     ]
    }
   ],
   "source": [
    "\n",
    "x = np.shape(A)\n",
    "print(f\"1st: {x[0]} 2ND: {x[1]}\")"
   ]
  },
  {
   "cell_type": "code",
   "execution_count": 47,
   "metadata": {},
   "outputs": [
    {
     "name": "stdout",
     "output_type": "stream",
     "text": [
      "Mean of 0 col is 0.04592913340386022 \n",
      "Max of 0 col is 1.8374016047511121 \n",
      "Minimum of 0 col is -1.9353545840853366 \n",
      "Mean of 1 col is 0.04592913340386022 \n",
      "Max of 1 col is 1.8374016047511121 \n",
      "Minimum of 1 col is -1.9353545840853366 \n",
      "Mean of 2 col is 0.04592913340386022 \n",
      "Max of 2 col is 1.8374016047511121 \n",
      "Minimum of 2 col is -1.9353545840853366 \n",
      "Mean of 3 col is 0.04592913340386022 \n",
      "Max of 3 col is 1.8374016047511121 \n",
      "Minimum of 3 col is -1.9353545840853366 \n",
      "Mean of 4 col is 0.04592913340386022 \n",
      "Max of 4 col is 1.8374016047511121 \n",
      "Minimum of 4 col is -1.9353545840853366 \n"
     ]
    }
   ],
   "source": [
    "# calculate the mean, sum, max, min value for each column in A\n",
    "idx = np.shape(A)\n",
    "for i in range(idx[1]):\n",
    "    col = A[:,i]\n",
    "    print(f\"Mean of {i} col is {np.mean(A)} \")\n",
    "    print(f\"Max of {i} col is {np.max(A)} \")\n",
    "    print(f\"Minimum of {i} col is {np.min(A)} \")\n",
    "    \n",
    "#print(np.mean(A))\n",
    "#print(np.max(A))\n",
    "#print(np.min(A))"
   ]
  },
  {
   "cell_type": "code",
   "execution_count": 49,
   "metadata": {},
   "outputs": [
    {
     "name": "stdout",
     "output_type": "stream",
     "text": [
      "[ 0.23396591 -0.52039189  0.08093215  0.42636422  0.00877527]\n",
      "[1.8374016  1.00661768 1.7126207  1.13600699 0.98241613]\n",
      "[-0.94648647 -1.93535458 -1.48204809 -0.27827547 -0.85432142]\n"
     ]
    }
   ],
   "source": [
    "# calculate the mean, sum, max, min value for each column in A\n",
    "#Alternative Solution\n",
    "\n",
    "print(np.mean(A,axis=0))\n",
    "print(np.max(A,axis=0))\n",
    "print(np.min(A,axis=0))"
   ]
  },
  {
   "cell_type": "code",
   "execution_count": 50,
   "metadata": {},
   "outputs": [
    {
     "name": "stdout",
     "output_type": "stream",
     "text": [
      "0.578669761393733\n",
      "0.6663627914568252\n",
      "0.689606548984167\n",
      "0.695767497734611\n",
      "0.6974005077787464\n",
      "0.6978333504970137\n",
      "0.697948079012879\n",
      "0.697978488747864\n",
      "0.697986549097768\n",
      "0.697988685559681\n",
      "0.6979892518464501\n",
      "0.6979894019454073\n",
      "0.6979894417303679\n",
      "0.6979894522756984\n",
      "0.6979894550708249\n",
      "0.6979894558116961\n",
      "0.69798945600807\n",
      "0.6979894560601205\n",
      "0.6979894560739169\n",
      "0.6979894560775738\n",
      "0.6979894560785431\n",
      "0.6979894560788\n",
      "0.6979894560788682\n",
      "0.6979894560788862\n",
      "0.697989456078891\n"
     ]
    }
   ],
   "source": [
    "# normalize A with its max value A_max and min value A_min\n",
    "# i.e., for any value x in A,\n",
    "# x = (x - A_min) / (A_max - A_min)\n",
    "A_min = np.min(A)\n",
    "A_max = np.max(A)\n",
    "x = A[0,0]\n",
    "for i in range(idx[0]):\n",
    "    for j in range(idx[1]):\n",
    "        x = (x - A_min) / (A_max - A_min)\n",
    "        print(x)\n",
    "        \n",
    "#\n"
   ]
  },
  {
   "cell_type": "code",
   "execution_count": 51,
   "metadata": {},
   "outputs": [
    {
     "data": {
      "text/plain": [
       "array([2., 3.])"
      ]
     },
     "execution_count": 51,
     "metadata": {},
     "output_type": "execute_result"
    }
   ],
   "source": [
    "# advanced exercise\n",
    "# solve the system of equations:\n",
    "# 3 * x0 + x1 = 9\n",
    "# x0 + 2 * x1 = 8\n",
    "\n",
    "# Ax = b \n",
    "A = np.array([[3, 1], [1, 2]])\n",
    "b = np.array([9, 8])\n",
    "x = np.linalg.solve(A, b)\n",
    "x"
   ]
  },
  {
   "cell_type": "code",
   "execution_count": 52,
   "metadata": {},
   "outputs": [
    {
     "data": {
      "text/plain": [
       "array([[False, False],\n",
       "       [False, False]])"
      ]
     },
     "execution_count": 52,
     "metadata": {},
     "output_type": "execute_result"
    }
   ],
   "source": [
    "# compare x with the product of inverse A and b\n",
    "\n",
    "x == np.linalg.inv(A*b)"
   ]
  },
  {
   "cell_type": "code",
   "execution_count": null,
   "metadata": {},
   "outputs": [],
   "source": []
  }
 ],
 "metadata": {
  "kernelspec": {
   "display_name": "Python 3 (ipykernel)",
   "language": "python",
   "name": "python3"
  },
  "language_info": {
   "codemirror_mode": {
    "name": "ipython",
    "version": 3
   },
   "file_extension": ".py",
   "mimetype": "text/x-python",
   "name": "python",
   "nbconvert_exporter": "python",
   "pygments_lexer": "ipython3",
   "version": "3.10.5"
  }
 },
 "nbformat": 4,
 "nbformat_minor": 2
}
