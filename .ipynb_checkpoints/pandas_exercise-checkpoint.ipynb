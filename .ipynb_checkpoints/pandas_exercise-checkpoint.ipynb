{
 "cells": [
  {
   "cell_type": "code",
   "execution_count": 27,
   "metadata": {},
   "outputs": [],
   "source": [
    "# import libraries\n",
    "import pandas as pd"
   ]
  },
  {
   "cell_type": "code",
   "execution_count": 28,
   "metadata": {},
   "outputs": [],
   "source": [
    "# read a CSV format text file\n",
    "# the data is sorted by utc_time\n",
    "df = pd.read_csv('beijing_air_quality_data.csv',\n",
    "                 parse_dates=['utc_time'])"
   ]
  },
  {
   "cell_type": "code",
   "execution_count": 29,
   "metadata": {},
   "outputs": [
    {
     "data": {
      "text/plain": [
       "5.416088362922563"
      ]
     },
     "execution_count": 29,
     "metadata": {},
     "output_type": "execute_result"
    }
   ],
   "source": [
    "# for temperature and humidity\n",
    "# calculate its mean, standard deviation\n",
    "\n",
    "df['temperature'].mean()\n",
    "df['temperature'].std()\n",
    "df['humidity'].mean()\n",
    "df['humidity'].std()"
   ]
  },
  {
   "cell_type": "code",
   "execution_count": 30,
   "metadata": {},
   "outputs": [
    {
     "data": {
      "text/html": [
       "<div>\n",
       "<style scoped>\n",
       "    .dataframe tbody tr th:only-of-type {\n",
       "        vertical-align: middle;\n",
       "    }\n",
       "\n",
       "    .dataframe tbody tr th {\n",
       "        vertical-align: top;\n",
       "    }\n",
       "\n",
       "    .dataframe thead th {\n",
       "        text-align: right;\n",
       "    }\n",
       "</style>\n",
       "<table border=\"1\" class=\"dataframe\">\n",
       "  <thead>\n",
       "    <tr style=\"text-align: right;\">\n",
       "      <th></th>\n",
       "      <th>site_id</th>\n",
       "      <th>utc_time</th>\n",
       "      <th>epoch_time</th>\n",
       "      <th>lat</th>\n",
       "      <th>lon</th>\n",
       "      <th>sitetype</th>\n",
       "      <th>pm25</th>\n",
       "      <th>pm10</th>\n",
       "      <th>no2</th>\n",
       "      <th>co</th>\n",
       "      <th>o3</th>\n",
       "      <th>so2</th>\n",
       "      <th>weather</th>\n",
       "      <th>temperature</th>\n",
       "      <th>pressure</th>\n",
       "      <th>humidity</th>\n",
       "      <th>wind_direction</th>\n",
       "      <th>wind_speed_kmph</th>\n",
       "    </tr>\n",
       "  </thead>\n",
       "  <tbody>\n",
       "    <tr>\n",
       "      <th>0</th>\n",
       "      <td>dongsi_aq</td>\n",
       "      <td>2018-04-28</td>\n",
       "      <td>1524873600</td>\n",
       "      <td>39.93</td>\n",
       "      <td>116.42</td>\n",
       "      <td>Urban Stations</td>\n",
       "      <td>59.0</td>\n",
       "      <td>172.0</td>\n",
       "      <td>96.0</td>\n",
       "      <td>0.8</td>\n",
       "      <td>8.0</td>\n",
       "      <td>5.0</td>\n",
       "      <td>CLEAR_DAY</td>\n",
       "      <td>17.03</td>\n",
       "      <td>1006.54</td>\n",
       "      <td>40.47</td>\n",
       "      <td>101.19</td>\n",
       "      <td>2.77</td>\n",
       "    </tr>\n",
       "    <tr>\n",
       "      <th>1</th>\n",
       "      <td>tiantan_aq</td>\n",
       "      <td>2018-04-28</td>\n",
       "      <td>1524873600</td>\n",
       "      <td>39.89</td>\n",
       "      <td>116.41</td>\n",
       "      <td>Urban Stations</td>\n",
       "      <td>52.0</td>\n",
       "      <td>187.0</td>\n",
       "      <td>104.0</td>\n",
       "      <td>0.8</td>\n",
       "      <td>3.0</td>\n",
       "      <td>5.0</td>\n",
       "      <td>CLEAR_DAY</td>\n",
       "      <td>17.09</td>\n",
       "      <td>1006.78</td>\n",
       "      <td>40.85</td>\n",
       "      <td>104.62</td>\n",
       "      <td>2.34</td>\n",
       "    </tr>\n",
       "    <tr>\n",
       "      <th>2</th>\n",
       "      <td>guanyuan_aq</td>\n",
       "      <td>2018-04-28</td>\n",
       "      <td>1524873600</td>\n",
       "      <td>39.93</td>\n",
       "      <td>116.34</td>\n",
       "      <td>Urban Stations</td>\n",
       "      <td>54.0</td>\n",
       "      <td>165.0</td>\n",
       "      <td>91.0</td>\n",
       "      <td>0.6</td>\n",
       "      <td>13.0</td>\n",
       "      <td>7.0</td>\n",
       "      <td>CLEAR_DAY</td>\n",
       "      <td>17.24</td>\n",
       "      <td>1004.53</td>\n",
       "      <td>40.50</td>\n",
       "      <td>89.65</td>\n",
       "      <td>2.86</td>\n",
       "    </tr>\n",
       "    <tr>\n",
       "      <th>3</th>\n",
       "      <td>wanshouxigong_aq</td>\n",
       "      <td>2018-04-28</td>\n",
       "      <td>1524873600</td>\n",
       "      <td>39.88</td>\n",
       "      <td>116.35</td>\n",
       "      <td>Urban Stations</td>\n",
       "      <td>51.0</td>\n",
       "      <td>184.0</td>\n",
       "      <td>93.0</td>\n",
       "      <td>0.9</td>\n",
       "      <td>6.0</td>\n",
       "      <td>5.0</td>\n",
       "      <td>CLEAR_DAY</td>\n",
       "      <td>17.30</td>\n",
       "      <td>1005.60</td>\n",
       "      <td>40.86</td>\n",
       "      <td>102.21</td>\n",
       "      <td>2.46</td>\n",
       "    </tr>\n",
       "    <tr>\n",
       "      <th>4</th>\n",
       "      <td>aotizhongxin_aq</td>\n",
       "      <td>2018-04-28</td>\n",
       "      <td>1524873600</td>\n",
       "      <td>39.98</td>\n",
       "      <td>116.40</td>\n",
       "      <td>Urban Stations</td>\n",
       "      <td>58.0</td>\n",
       "      <td>134.0</td>\n",
       "      <td>86.0</td>\n",
       "      <td>0.7</td>\n",
       "      <td>6.0</td>\n",
       "      <td>3.0</td>\n",
       "      <td>CLEAR_DAY</td>\n",
       "      <td>16.98</td>\n",
       "      <td>1005.89</td>\n",
       "      <td>39.64</td>\n",
       "      <td>82.69</td>\n",
       "      <td>3.62</td>\n",
       "    </tr>\n",
       "  </tbody>\n",
       "</table>\n",
       "</div>"
      ],
      "text/plain": [
       "            site_id   utc_time  epoch_time    lat     lon        sitetype  \\\n",
       "0         dongsi_aq 2018-04-28  1524873600  39.93  116.42  Urban Stations   \n",
       "1        tiantan_aq 2018-04-28  1524873600  39.89  116.41  Urban Stations   \n",
       "2       guanyuan_aq 2018-04-28  1524873600  39.93  116.34  Urban Stations   \n",
       "3  wanshouxigong_aq 2018-04-28  1524873600  39.88  116.35  Urban Stations   \n",
       "4   aotizhongxin_aq 2018-04-28  1524873600  39.98  116.40  Urban Stations   \n",
       "\n",
       "   pm25   pm10    no2   co    o3  so2    weather  temperature  pressure  \\\n",
       "0  59.0  172.0   96.0  0.8   8.0  5.0  CLEAR_DAY        17.03   1006.54   \n",
       "1  52.0  187.0  104.0  0.8   3.0  5.0  CLEAR_DAY        17.09   1006.78   \n",
       "2  54.0  165.0   91.0  0.6  13.0  7.0  CLEAR_DAY        17.24   1004.53   \n",
       "3  51.0  184.0   93.0  0.9   6.0  5.0  CLEAR_DAY        17.30   1005.60   \n",
       "4  58.0  134.0   86.0  0.7   6.0  3.0  CLEAR_DAY        16.98   1005.89   \n",
       "\n",
       "   humidity  wind_direction  wind_speed_kmph  \n",
       "0     40.47          101.19             2.77  \n",
       "1     40.85          104.62             2.34  \n",
       "2     40.50           89.65             2.86  \n",
       "3     40.86          102.21             2.46  \n",
       "4     39.64           82.69             3.62  "
      ]
     },
     "execution_count": 30,
     "metadata": {},
     "output_type": "execute_result"
    }
   ],
   "source": [
    "df.head()"
   ]
  },
  {
   "cell_type": "code",
   "execution_count": 31,
   "metadata": {},
   "outputs": [
    {
     "data": {
      "text/plain": [
       "35"
      ]
     },
     "execution_count": 31,
     "metadata": {},
     "output_type": "execute_result"
    }
   ],
   "source": [
    "# how many unique site_id?\n",
    "# Hint: check pd.unique method\n",
    "x = pd.unique(df['site_id'])\n",
    "x.size"
   ]
  },
  {
   "cell_type": "code",
   "execution_count": 32,
   "metadata": {},
   "outputs": [
    {
     "data": {
      "text/plain": [
       "Timedelta('35 days 23:00:00')"
      ]
     },
     "execution_count": 32,
     "metadata": {},
     "output_type": "execute_result"
    }
   ],
   "source": [
    "# what is the range of utc_time?\n",
    "# Hint: you can call min() and max() for the utc_time column\n",
    "range = df['utc_time'].max() - df['utc_time'].min()\n",
    "range"
   ]
  },
  {
   "cell_type": "code",
   "execution_count": 37,
   "metadata": {},
   "outputs": [
    {
     "data": {
      "text/plain": [
       "0        59.000000\n",
       "1        52.000000\n",
       "2        54.000000\n",
       "3        51.000000\n",
       "4        58.000000\n",
       "           ...    \n",
       "30235    58.937398\n",
       "30236    58.937398\n",
       "30237    58.937398\n",
       "30238    58.937398\n",
       "30239    58.937398\n",
       "Name: pm25, Length: 30240, dtype: float64"
      ]
     },
     "execution_count": 37,
     "metadata": {},
     "output_type": "execute_result"
    }
   ],
   "source": [
    "# for pm25, fill NAs with mean value\n",
    "df['pm25'].fillna(df['pm25'].mean())"
   ]
  },
  {
   "cell_type": "code",
   "execution_count": 46,
   "metadata": {},
   "outputs": [
    {
     "data": {
      "text/plain": [
       "491"
      ]
     },
     "execution_count": 46,
     "metadata": {},
     "output_type": "execute_result"
    }
   ],
   "source": [
    "# select data for a station where site_id equals to dongsi_aq\n",
    "dongsi_df = df[df['site_id'] == 'dongsi_aq']\n",
    "\n",
    "dongsi_df_pm25 = dongsi_df['pm25']\n",
    "dongsi_df_pm25\n",
    "# calculate the mean value of pm25 at this station\n",
    "dongsi_df_pm25.mean()\n",
    "# calculate how many data points when pm25 >= 50 at this station\n",
    "# Hint: check count() method\n",
    "dongsi_df_pm25[df['pm25'] >= 50].count()\n"
   ]
  },
  {
   "cell_type": "code",
   "execution_count": 75,
   "metadata": {},
   "outputs": [
    {
     "name": "stdout",
     "output_type": "stream",
     "text": [
      "0\n"
     ]
    }
   ],
   "source": [
    "# how many NAs for pm25 values at this station\n",
    "# Hint: check isnull() method\n",
    "count = 0\n",
    "for x in dongsi_df_pm25.isnull():\n",
    "    #print(x)\n",
    "    if x == True:\n",
    "        count=count+1\n",
    "        \n",
    "print(count)"
   ]
  },
  {
   "cell_type": "code",
   "execution_count": null,
   "metadata": {},
   "outputs": [],
   "source": []
  }
 ],
 "metadata": {
  "kernelspec": {
   "display_name": "Python 3 (ipykernel)",
   "language": "python",
   "name": "python3"
  },
  "language_info": {
   "codemirror_mode": {
    "name": "ipython",
    "version": 3
   },
   "file_extension": ".py",
   "mimetype": "text/x-python",
   "name": "python",
   "nbconvert_exporter": "python",
   "pygments_lexer": "ipython3",
   "version": "3.10.5"
  }
 },
 "nbformat": 4,
 "nbformat_minor": 2
}
